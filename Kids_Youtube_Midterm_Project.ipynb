# YouTube Kids Content Statistical Analysis

**Midterm Project – MAT 301: Applied Statistics and Data Analysis**  
**Professor**: Eric Aragundi  
**Student**: Nawel Messaoudi  
**Project Title**: *YouTube Kids Content Statistical Analysis*  
**Dataset Used**: `Filtered_Kids_Youtube_Videos.csv`  
*(Filtered from the original Trending YouTube dataset to include only child-appropriate content)*

---

## Project Links

- [Google Colab Notebook](https://drive.google.com/file/d/1lcy0Kzq0AFAdelu4zQV6m4L0RAGHWNKR/view?usp=sharing)
- [GitHub Repository](https://github.com/NawelMe/midterm-project_YouTube-Kids-Analysis.git)
- [Raw CSV Dataset (GitHub)](https://raw.githubusercontent.com/NawelMe/midterm-project_YouTube-Kids-Analysis/main/Filtered_Kids_Youtube_Videos.csv)
- [Standalone Python Script](https://drive.google.com/file/d/13lYHrBoNhDoquOLtMLhMdjjD2E5nWA-J/view?usp=sharing)
- [Video Presentation](https://youtu.be/_6F27Kx6YXY)

---

## Project Description

This project analyzes YouTube videos targeting children to uncover trends in viewer engagement using statistical methods. The dataset includes metadata such as views, likes, dislikes, comments, and publication dates, filtered from a larger dataset to include only child-appropriate content.

### Tools & Libraries Used

- `pandas`, `numpy`, `seaborn`, `matplotlib`, `scipy.stats`
- Google Colab for cloud-based notebook execution
- GitHub for dataset and version control

---

## Analysis Structure

The notebook follows a consistent, professor-recommended format:

1. **State the Question**  
   Each step begins with a clear statistical or data-driven question.

2. **Show the Code**  
   Clean, commented Python code is used for analysis and visualization.

3. **Provide the Interpretation**  
   Outputs are interpreted in plain language to explain what the statistics or plots reveal.

---

## Results

- **Descriptive Stats**: Means, medians, and standard deviations of views, likes, and comment counts.
- **Visualizations**: Histograms, boxplots, regression plots, pair plots, and time series.
- **Statistical Analysis**: 
  - Linear regression between likes and views.
  - Probability calculations for viewership and engagement thresholds.
  - Conditional probabilities based on category.

## Notes

- The project investigates **engagement metrics** (likes, comments, etc.) in **child-targeted YouTube videos**.
- The dataset is **hosted on GitHub** and successfully integrated into the **Google Colab** environment for reproducible analysis.
- All DataFrame variables in the notebook use the alias `data` for clarity and consistency.
